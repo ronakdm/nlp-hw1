{
 "cells": [
  {
   "cell_type": "code",
   "execution_count": 1,
   "metadata": {
    "execution": {
     "iopub.execute_input": "2021-01-11T13:24:41.140970Z",
     "iopub.status.busy": "2021-01-11T13:24:41.140304Z",
     "iopub.status.idle": "2021-01-11T13:24:42.074625Z",
     "shell.execute_reply": "2021-01-11T13:24:42.075074Z"
    }
   },
   "outputs": [],
   "source": [
    "import numpy as np\n",
    "import pickle\n",
    "import glob\n",
    "from sklearn.model_selection import train_test_split\n",
    "from sklearn.exceptions import NotFittedError\n",
    "from sklearn.metrics import accuracy_score, f1_score"
   ]
  },
  {
   "cell_type": "markdown",
   "metadata": {},
   "source": [
    "Build vocabulary."
   ]
  },
  {
   "cell_type": "code",
   "execution_count": 2,
   "metadata": {
    "execution": {
     "iopub.execute_input": "2021-01-11T13:24:42.079960Z",
     "iopub.status.busy": "2021-01-11T13:24:42.079465Z",
     "iopub.status.idle": "2021-01-11T13:24:42.818248Z",
     "shell.execute_reply": "2021-01-11T13:24:42.818679Z"
    }
   },
   "outputs": [],
   "source": [
    "neg_files = glob.glob(\"txt_sentoken/neg/*.txt\")\n",
    "pos_files = glob.glob(\"txt_sentoken/neg/*.txt\")\n",
    "files = neg_files + pos_files\n",
    "vocab = {}\n",
    "index = 0\n",
    "for file in files:\n",
    "    with open(file) as f:\n",
    "        raw_txt = f.read()\n",
    "    txt_arr = raw_txt.split()\n",
    "    for token in txt_arr:\n",
    "        if token not in vocab:\n",
    "            vocab[token] = index\n",
    "            index += 1\n",
    "            \n",
    "pickle.dump(vocab, open(\"vocab.pkl\", \"wb\"))"
   ]
  },
  {
   "cell_type": "markdown",
   "metadata": {},
   "source": [
    "Generate word count feature vectors for each document."
   ]
  },
  {
   "cell_type": "code",
   "execution_count": 3,
   "metadata": {
    "execution": {
     "iopub.execute_input": "2021-01-11T13:24:42.825649Z",
     "iopub.status.busy": "2021-01-11T13:24:42.825096Z",
     "iopub.status.idle": "2021-01-11T13:24:47.982891Z",
     "shell.execute_reply": "2021-01-11T13:24:47.983443Z"
    }
   },
   "outputs": [],
   "source": [
    "vocab_size = len(vocab)\n",
    "n = len(files)\n",
    "n_neg = len(neg_files)\n",
    "n_pos = len(pos_files)\n",
    "\n",
    "X = np.zeros((n, vocab_size), dtype=np.int8)\n",
    "y = np.concatenate((np.repeat(0, n_neg), np.repeat(1, n_pos))).astype(np.int8)\n",
    "\n",
    "for i, file in enumerate(files):\n",
    "    with open(file) as f:\n",
    "        raw_txt = f.read()\n",
    "    txt_arr = raw_txt.split()\n",
    "    for token in txt_arr:\n",
    "        X[i, vocab[token]] += 1\n",
    "        \n",
    "X_train, X_test, y_train, y_test = train_test_split(X, y, test_size=400)\n",
    "\n",
    "pickle.dump(X_train, open(\"X_train.pkl\", \"wb\"))\n",
    "pickle.dump(X_test, open(\"X_test.pkl\", \"wb\"))\n",
    "pickle.dump(y_train, open(\"y_train.pkl\", \"wb\"))\n",
    "pickle.dump(y_test, open(\"y_test.pkl\", \"wb\"))"
   ]
  },
  {
   "cell_type": "markdown",
   "metadata": {},
   "source": [
    "Load train and test data."
   ]
  },
  {
   "cell_type": "code",
   "execution_count": 4,
   "metadata": {
    "execution": {
     "iopub.execute_input": "2021-01-11T13:24:47.988825Z",
     "iopub.status.busy": "2021-01-11T13:24:47.988291Z",
     "iopub.status.idle": "2021-01-11T13:24:48.616604Z",
     "shell.execute_reply": "2021-01-11T13:24:48.616997Z"
    }
   },
   "outputs": [
    {
     "name": "stdout",
     "output_type": "stream",
     "text": [
      "Train size: 1600\n",
      "Test size: 400\n",
      "Vocabulary size: 34542\n",
      "\n",
      "X_train shape: (1600, 34542)\n",
      "X_test shape: (400, 34542)\n",
      "y_train shape: (1600,)\n",
      "y_test shape: (400,)\n"
     ]
    }
   ],
   "source": [
    "X_train = pickle.load(open(\"X_train.pkl\", \"rb\"))\n",
    "X_test = pickle.load(open(\"X_test.pkl\", \"rb\"))\n",
    "y_train = pickle.load(open(\"y_train.pkl\", \"rb\"))\n",
    "y_test = pickle.load(open(\"y_test.pkl\", \"rb\"))\n",
    "\n",
    "vocab = pickle.load(open(\"vocab.pkl\", \"rb\"))\n",
    "\n",
    "print(\"Train size:\", len(X_train))\n",
    "print(\"Test size:\", len(X_test))\n",
    "print(\"Vocabulary size:\", len(vocab))\n",
    "print()\n",
    "print(\"X_train shape:\", X_train.shape)\n",
    "print(\"X_test shape:\", X_test.shape)\n",
    "print(\"y_train shape:\", y_train.shape)\n",
    "print(\"y_test shape:\", y_test.shape)"
   ]
  },
  {
   "cell_type": "markdown",
   "metadata": {},
   "source": [
    "Run Multinomial Logistic Regression algorithm."
   ]
  },
  {
   "cell_type": "code",
   "execution_count": 5,
   "metadata": {
    "execution": {
     "iopub.execute_input": "2021-01-11T13:24:48.663172Z",
     "iopub.status.busy": "2021-01-11T13:24:48.662603Z",
     "iopub.status.idle": "2021-01-11T13:24:48.664566Z",
     "shell.execute_reply": "2021-01-11T13:24:48.664956Z"
    }
   },
   "outputs": [],
   "source": [
    "class MultinomialLogisticRegressor():\n",
    "    \n",
    "    def __init__(self, lambda_, batch_size, epochs, lr, verbose):\n",
    "        self.lambda_ = lambda_\n",
    "        self.batch_size = batch_size\n",
    "        self.epochs = epochs\n",
    "        self.lr = lr\n",
    "        self.verbose = verbose\n",
    "    \n",
    "    def fit(self, X, y):\n",
    "        \n",
    "        n, d = X.shape\n",
    "        X_appended = np.concatenate((np.ones((n, 1)), X), axis=1)\n",
    "        self.weights = np.random.normal(size=d+1)\n",
    "        checkpoint = epochs // 10\n",
    "        \n",
    "        for epoch in range(epochs):\n",
    "            \n",
    "            order = np.random.permutation(n)\n",
    "            num_batch = n // batch_size\n",
    "            \n",
    "            for i in range(num_batch):\n",
    "                indices = order[i:min(i + batch_size, n)]\n",
    "                X_batch = X_appended[indices]\n",
    "                y_batch = y[indices]\n",
    "                \n",
    "                self.gradient_step(X_batch, y_batch)\n",
    "                \n",
    "            # Compute training loss.\n",
    "            if verbose and (epoch % checkpoint == 0):\n",
    "                probs = self.sigmoid(np.dot(X_appended, self.weights))\n",
    "                loss = -(y * np.log(probs) + (1 - y) * np.log(1 - probs)).sum() / n + 0.5 * self.lambda_ * np.dot(self.weights, self.weights)\n",
    "                print(\"Epoch %d \\t cross entropy loss: %0.4f\" % (epoch, loss))\n",
    "            \n",
    "                \n",
    "        self.fitted = True\n",
    "        return self\n",
    "    \n",
    "    def predict(self, X):\n",
    "        \n",
    "        if not hasattr(self, 'fitted'):\n",
    "            raise NotFittedError(\"This MultinomialLogisticRegressor instance is not fitted yet. Call 'fit' with appropriate arguments before using this estimator.\")\n",
    "            \n",
    "        n = len(X)\n",
    "        X_appended = np.concatenate((np.ones((n, 1)), X), axis=1)\n",
    "        \n",
    "        return (1 + np.sign(np.dot(X_appended, self.weights))) / 2\n",
    "    \n",
    "    def gradient_step(self, X, y):\n",
    "        \n",
    "        n = len(X)\n",
    "        probs = self.sigmoid(np.dot(X, self.weights))\n",
    "        grad = np.dot(X.T, (probs - y)) + self.lambda_ * self.weights / n\n",
    "        self.weights = self.weights - self.lr * grad\n",
    "        \n",
    "    def sigmoid(self, Z):\n",
    "        Z_clipped = np.clip(Z, -10, 10)\n",
    "        return 1 / (1 + np.exp(-Z_clipped))"
   ]
  },
  {
   "cell_type": "markdown",
   "metadata": {},
   "source": [
    "Hyperparameter search."
   ]
  },
  {
   "cell_type": "code",
   "execution_count": 6,
   "metadata": {
    "execution": {
     "iopub.execute_input": "2021-01-11T13:24:48.671999Z",
     "iopub.status.busy": "2021-01-11T13:24:48.671484Z",
     "iopub.status.idle": "2021-01-11T13:38:12.132131Z",
     "shell.execute_reply": "2021-01-11T13:38:12.132661Z"
    }
   },
   "outputs": [
    {
     "name": "stdout",
     "output_type": "stream",
     "text": [
      "Iter \t lambda \t lr \t\t train acc \t val acc \t val f1 \n",
      "0 \t 0.00003 \t 0.00027 \t 0.54 \t\t 0.42 \t\t 0.45\n",
      "1 \t 0.00020 \t 0.00002 \t 0.51 \t\t 0.50 \t\t 0.52\n",
      "2 \t 0.00006 \t 0.00840 \t 0.63 \t\t 0.26 \t\t 0.35\n",
      "3 \t 0.00037 \t 0.02821 \t 0.56 \t\t 0.37 \t\t 0.03\n",
      "4 \t 0.74630 \t 2.10430 \t 0.49 \t\t 0.49 \t\t 0.00\n",
      "5 \t 0.00029 \t 1.00526 \t 0.55 \t\t 0.42 \t\t 0.59\n",
      "6 \t 1.04302 \t 0.00049 \t 0.57 \t\t 0.40 \t\t 0.50\n",
      "7 \t 0.15314 \t 0.01068 \t 0.55 \t\t 0.43 \t\t 0.60\n",
      "8 \t 1.72537 \t 0.13175 \t 0.49 \t\t 0.49 \t\t 0.00\n",
      "9 \t 0.00237 \t 0.32985 \t 0.50 \t\t 0.47 \t\t 0.00\n",
      "10 \t 0.00270 \t 0.00003 \t 0.48 \t\t 0.50 \t\t 0.48\n",
      "11 \t 0.00443 \t 0.00054 \t 0.57 \t\t 0.37 \t\t 0.48\n",
      "12 \t 0.00002 \t 0.00036 \t 0.56 \t\t 0.37 \t\t 0.39\n",
      "13 \t 0.02076 \t 0.04759 \t 0.50 \t\t 0.47 \t\t 0.00\n",
      "14 \t 0.00350 \t 0.00823 \t 0.52 \t\t 0.49 \t\t 0.66\n",
      "15 \t 0.01934 \t 0.00031 \t 0.56 \t\t 0.42 \t\t 0.47\n",
      "16 \t 0.88285 \t 0.00031 \t 0.54 \t\t 0.44 \t\t 0.56\n",
      "17 \t 0.00441 \t 0.02128 \t 0.52 \t\t 0.45 \t\t 0.00\n",
      "18 \t 0.00023 \t 0.03929 \t 0.61 \t\t 0.28 \t\t 0.39\n",
      "19 \t 0.02146 \t 1.17000 \t 0.51 \t\t 0.51 \t\t 0.67\n",
      "20 \t 0.00219 \t 0.00066 \t 0.55 \t\t 0.38 \t\t 0.20\n",
      "21 \t 0.12413 \t 0.62329 \t 0.54 \t\t 0.45 \t\t 0.52\n",
      "22 \t 0.00005 \t 0.00004 \t 0.52 \t\t 0.48 \t\t 0.56\n",
      "23 \t 0.05031 \t 0.00035 \t 0.55 \t\t 0.42 \t\t 0.46\n",
      "24 \t 0.59430 \t 0.00123 \t 0.55 \t\t 0.40 \t\t 0.57\n",
      "25 \t 0.00817 \t 0.00003 \t 0.50 \t\t 0.51 \t\t 0.51\n",
      "26 \t 0.14513 \t 0.00388 \t 0.62 \t\t 0.24 \t\t 0.25\n",
      "27 \t 0.00179 \t 0.28324 \t 0.54 \t\t 0.45 \t\t 0.62\n",
      "28 \t 0.90768 \t 0.00008 \t 0.51 \t\t 0.46 \t\t 0.52\n",
      "29 \t 1.86703 \t 0.00189 \t 0.54 \t\t 0.40 \t\t 0.02\n",
      "30 \t 0.00127 \t 0.00224 \t 0.50 \t\t 0.47 \t\t 0.01\n",
      "31 \t 0.00001 \t 0.08765 \t 0.64 \t\t 0.22 \t\t 0.20\n",
      "32 \t 0.14547 \t 0.00173 \t 0.53 \t\t 0.42 \t\t 0.08\n",
      "33 \t 0.00128 \t 0.00089 \t 0.53 \t\t 0.48 \t\t 0.65\n",
      "34 \t 0.00026 \t 0.12274 \t 0.58 \t\t 0.31 \t\t 0.08\n",
      "35 \t 0.00052 \t 1.28363 \t 0.57 \t\t 0.39 \t\t 0.56\n",
      "36 \t 0.01145 \t 0.01358 \t 0.54 \t\t 0.40 \t\t 0.04\n",
      "37 \t 0.45049 \t 0.00002 \t 0.50 \t\t 0.51 \t\t 0.56\n",
      "38 \t 0.00011 \t 0.00777 \t 0.49 \t\t 0.49 \t\t 0.00\n",
      "39 \t 0.00988 \t 0.00242 \t 0.56 \t\t 0.39 \t\t 0.56\n",
      "40 \t 0.00228 \t 0.00025 \t 0.54 \t\t 0.42 \t\t 0.44\n",
      "41 \t 0.02353 \t 0.02907 \t 0.52 \t\t 0.48 \t\t 0.65\n",
      "42 \t 0.00009 \t 0.00033 \t 0.54 \t\t 0.41 \t\t 0.38\n",
      "43 \t 0.00006 \t 0.01280 \t 0.52 \t\t 0.48 \t\t 0.65\n",
      "44 \t 0.00002 \t 0.01097 \t 0.55 \t\t 0.39 \t\t 0.08\n",
      "45 \t 0.30480 \t 0.00682 \t 0.54 \t\t 0.43 \t\t 0.05\n",
      "46 \t 0.35280 \t 0.00003 \t 0.51 \t\t 0.48 \t\t 0.40\n",
      "47 \t 0.02180 \t 0.00009 \t 0.53 \t\t 0.43 \t\t 0.39\n",
      "48 \t 0.07635 \t 0.12244 \t 0.51 \t\t 0.50 \t\t 0.67\n",
      "49 \t 0.00091 \t 0.15090 \t 0.59 \t\t 0.34 \t\t 0.08\n",
      "50 \t 0.00069 \t 0.00001 \t 0.51 \t\t 0.49 \t\t 0.57\n",
      "51 \t 0.01090 \t 1.94269 \t 0.52 \t\t 0.42 \t\t 0.03\n",
      "52 \t 0.00004 \t 0.00011 \t 0.54 \t\t 0.42 \t\t 0.43\n",
      "53 \t 1.13272 \t 0.04063 \t 0.51 \t\t 0.51 \t\t 0.67\n",
      "54 \t 1.29916 \t 0.00326 \t 0.54 \t\t 0.40 \t\t 0.03\n",
      "55 \t 0.00444 \t 0.05072 \t 0.54 \t\t 0.39 \t\t 0.02\n",
      "56 \t 0.00057 \t 0.00008 \t 0.53 \t\t 0.42 \t\t 0.47\n",
      "57 \t 0.00281 \t 0.22514 \t 0.62 \t\t 0.29 \t\t 0.32\n",
      "58 \t 0.00573 \t 0.00059 \t 0.59 \t\t 0.31 \t\t 0.39\n",
      "59 \t 0.00436 \t 0.11410 \t 0.64 \t\t 0.22 \t\t 0.23\n",
      "60 \t 1.79329 \t 0.00093 \t 0.53 \t\t 0.47 \t\t 0.64\n",
      "61 \t 0.05682 \t 0.16567 \t 0.51 \t\t 0.50 \t\t 0.67\n",
      "62 \t 0.00108 \t 0.17967 \t 0.60 \t\t 0.34 \t\t 0.48\n",
      "63 \t 0.00002 \t 0.02758 \t 0.61 \t\t 0.29 \t\t 0.40\n",
      "64 \t 0.71856 \t 0.05844 \t 0.51 \t\t 0.51 \t\t 0.67\n",
      "65 \t 0.00215 \t 0.00296 \t 0.56 \t\t 0.40 \t\t 0.57\n",
      "66 \t 0.01334 \t 0.00026 \t 0.53 \t\t 0.43 \t\t 0.53\n",
      "67 \t 1.90273 \t 0.70480 \t 0.51 \t\t 0.51 \t\t 0.67\n",
      "68 \t 0.01200 \t 1.29342 \t 0.51 \t\t 0.51 \t\t 0.67\n",
      "69 \t 0.00198 \t 0.00040 \t 0.57 \t\t 0.34 \t\t 0.28\n",
      "70 \t 0.00129 \t 0.03932 \t 0.62 \t\t 0.26 \t\t 0.23\n",
      "71 \t 0.10413 \t 0.86447 \t 0.53 \t\t 0.49 \t\t 0.61\n",
      "72 \t 0.19970 \t 0.06121 \t 0.54 \t\t 0.40 \t\t 0.10\n",
      "73 \t 1.85345 \t 0.02680 \t 0.56 \t\t 0.41 \t\t 0.47\n",
      "74 \t 0.08577 \t 0.00003 \t 0.51 \t\t 0.50 \t\t 0.48\n",
      "75 \t 0.00168 \t 0.00010 \t 0.53 \t\t 0.45 \t\t 0.43\n",
      "76 \t 0.00206 \t 0.02545 \t 0.51 \t\t 0.46 \t\t 0.01\n",
      "77 \t 0.11791 \t 0.06815 \t 0.54 \t\t 0.38 \t\t 0.04\n",
      "78 \t 0.00085 \t 0.23270 \t 0.50 \t\t 0.47 \t\t 0.02\n",
      "79 \t 0.00684 \t 0.00179 \t 0.57 \t\t 0.38 \t\t 0.54\n",
      "80 \t 0.00033 \t 0.84001 \t 0.65 \t\t 0.23 \t\t 0.27\n",
      "81 \t 0.00188 \t 0.17220 \t 0.63 \t\t 0.24 \t\t 0.26\n",
      "82 \t 0.00016 \t 0.01276 \t 0.62 \t\t 0.29 \t\t 0.39\n",
      "83 \t 0.00011 \t 0.00006 \t 0.51 \t\t 0.47 \t\t 0.48\n",
      "84 \t 0.24243 \t 0.00003 \t 0.52 \t\t 0.43 \t\t 0.46\n",
      "85 \t 0.04876 \t 0.03473 \t 0.62 \t\t 0.29 \t\t 0.25\n",
      "86 \t 0.89680 \t 0.00008 \t 0.52 \t\t 0.44 \t\t 0.42\n",
      "87 \t 0.00016 \t 0.00002 \t 0.50 \t\t 0.50 \t\t 0.47\n",
      "88 \t 0.00110 \t 0.10841 \t 0.61 \t\t 0.28 \t\t 0.09\n",
      "89 \t 0.07762 \t 0.00046 \t 0.54 \t\t 0.38 \t\t 0.20\n",
      "90 \t 1.70188 \t 0.16593 \t 0.51 \t\t 0.51 \t\t 0.67\n",
      "91 \t 0.03265 \t 0.00013 \t 0.53 \t\t 0.44 \t\t 0.45\n",
      "92 \t 0.00022 \t 0.00005 \t 0.51 \t\t 0.44 \t\t 0.39\n",
      "93 \t 0.00613 \t 0.03932 \t 0.60 \t\t 0.33 \t\t 0.48\n",
      "94 \t 0.08730 \t 0.00056 \t 0.58 \t\t 0.34 \t\t 0.27\n",
      "95 \t 0.00231 \t 0.00004 \t 0.51 \t\t 0.48 \t\t 0.54\n",
      "96 \t 0.07078 \t 0.05019 \t 0.55 \t\t 0.43 \t\t 0.59\n",
      "97 \t 0.00020 \t 0.00017 \t 0.53 \t\t 0.46 \t\t 0.45\n",
      "98 \t 2.60978 \t 0.00096 \t 0.53 \t\t 0.40 \t\t 0.03\n",
      "99 \t 0.28334 \t 0.05751 \t 0.53 \t\t 0.47 \t\t 0.63\n"
     ]
    }
   ],
   "source": [
    "num_cross_val = 100\n",
    "batch_size = 32\n",
    "epochs = 100\n",
    "verbose = False\n",
    "\n",
    "lambdas = np.power(10, np.random.uniform(low=-5, high=0.5, size=num_cross_val))\n",
    "lrs = np.power(10, np.random.uniform(low=-5, high=0.5, size=num_cross_val))\n",
    "\n",
    "X_train, X_val, y_train, y_val = train_test_split(X_train, y_train, test_size=0.2)\n",
    "\n",
    "best_acc = 0\n",
    "best_lambda = 0\n",
    "best_lr = 0\n",
    "\n",
    "hyperparams = []\n",
    "\n",
    "print('Iter \\t lambda \\t lr \\t\\t train acc \\t val acc \\t val f1 ')\n",
    "for i in range(num_cross_val):\n",
    "    lambda_ = lambdas[i]\n",
    "    lr = lrs[i]\n",
    "    \n",
    "    mlr = MultinomialLogisticRegressor(lambda_=lambda_, batch_size=batch_size, epochs=epochs, lr=lr, verbose=verbose)\n",
    "    mlr.fit(X_train, y_train)\n",
    "    y_pred = mlr.predict(X_val)\n",
    "    \n",
    "    val_acc = accuracy_score(y_val, y_pred)\n",
    "    f1 = f1_score(y_val, y_pred)\n",
    "    \n",
    "    train_acc = accuracy_score(y_train, mlr.predict(X_train))\n",
    "        \n",
    "    hyperparams.append(\n",
    "        {\n",
    "            'lambda' : lambda_,\n",
    "            'lr' : lr,\n",
    "            'train_acc' : train_acc,\n",
    "            'val_acc' : val_acc,\n",
    "            'f1' : f1\n",
    "        }\n",
    "    )    \n",
    "    print('%d \\t %0.5f \\t %0.5f \\t %0.2f \\t\\t %0.2f \\t\\t %0.2f' % (i, lambda_, lr, train_acc, val_acc, f1))\n",
    "        \n",
    "pickle.dump(hyperparams, open(\"hyperparams.pkl\", \"wb\"))"
   ]
  },
  {
   "cell_type": "code",
   "execution_count": null,
   "metadata": {},
   "outputs": [],
   "source": []
  }
 ],
 "metadata": {
  "kernelspec": {
   "display_name": "Python 3",
   "language": "python",
   "name": "python3"
  },
  "language_info": {
   "codemirror_mode": {
    "name": "ipython",
    "version": 3
   },
   "file_extension": ".py",
   "mimetype": "text/x-python",
   "name": "python",
   "nbconvert_exporter": "python",
   "pygments_lexer": "ipython3",
   "version": "3.8.5"
  }
 },
 "nbformat": 4,
 "nbformat_minor": 4
}
