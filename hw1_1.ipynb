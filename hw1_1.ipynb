{
 "cells": [
  {
   "cell_type": "code",
   "execution_count": 1,
   "metadata": {
    "execution": {
     "iopub.execute_input": "2021-01-11T14:37:59.056674Z",
     "iopub.status.busy": "2021-01-11T14:37:59.056241Z",
     "iopub.status.idle": "2021-01-11T14:38:02.220365Z",
     "shell.execute_reply": "2021-01-11T14:38:02.220770Z"
    }
   },
   "outputs": [],
   "source": [
    "import numpy as np\n",
    "import pandas as pd\n",
    "import pickle\n",
    "import glob\n",
    "from sklearn.model_selection import train_test_split\n",
    "from sklearn.exceptions import NotFittedError\n",
    "from sklearn.metrics import accuracy_score, f1_score"
   ]
  },
  {
   "cell_type": "markdown",
   "metadata": {},
   "source": [
    "Build vocabulary."
   ]
  },
  {
   "cell_type": "code",
   "execution_count": 2,
   "metadata": {
    "execution": {
     "iopub.execute_input": "2021-01-11T14:38:02.223317Z",
     "iopub.status.busy": "2021-01-11T14:38:02.222964Z",
     "iopub.status.idle": "2021-01-11T14:38:02.224598Z",
     "shell.execute_reply": "2021-01-11T14:38:02.224249Z"
    }
   },
   "outputs": [],
   "source": [
    "neg_files = glob.glob(\"txt_sentoken/neg/*.txt\")\n",
    "pos_files = glob.glob(\"txt_sentoken/neg/*.txt\")\n",
    "files = neg_files + pos_files\n",
    "vocab = {}\n",
    "index = 0\n",
    "for file in files:\n",
    "    with open(file) as f:\n",
    "        raw_txt = f.read()\n",
    "    txt_arr = raw_txt.split()\n",
    "    for token in txt_arr:\n",
    "        if token not in vocab:\n",
    "            vocab[token] = index\n",
    "            index += 1\n",
    "            \n",
    "pickle.dump(vocab, open(\"vocab.pkl\", \"wb\"))"
   ]
  },
  {
   "cell_type": "markdown",
   "metadata": {},
   "source": [
    "Generate word count feature vectors for each document."
   ]
  },
  {
   "cell_type": "code",
   "execution_count": 3,
   "metadata": {
    "execution": {
     "iopub.execute_input": "2021-01-11T14:38:02.228124Z",
     "iopub.status.busy": "2021-01-11T14:38:02.227760Z",
     "iopub.status.idle": "2021-01-11T14:38:02.228458Z",
     "shell.execute_reply": "2021-01-11T14:38:02.228781Z"
    }
   },
   "outputs": [],
   "source": [
    "vocab_size = len(vocab)\n",
    "n = len(files)\n",
    "n_neg = len(neg_files)\n",
    "n_pos = len(pos_files)\n",
    "\n",
    "X = np.zeros((n, vocab_size), dtype=np.int8)\n",
    "y = np.concatenate((np.repeat(0, n_neg), np.repeat(1, n_pos))).astype(np.int8)\n",
    "\n",
    "for i, file in enumerate(files):\n",
    "    with open(file) as f:\n",
    "        raw_txt = f.read()\n",
    "    txt_arr = raw_txt.split()\n",
    "    for token in txt_arr:\n",
    "        X[i, vocab[token]] += 1"
   ]
  },
  {
   "cell_type": "code",
   "execution_count": 5,
   "metadata": {},
   "outputs": [
    {
     "name": "stdout",
     "output_type": "stream",
     "text": [
      "1282 words out of 34542 words have above 0.050000 instances in each document on average (0.037).\n"
     ]
    }
   ],
   "source": [
    "feature_means = np.mean(X, axis = 0)\n",
    "vocab_size = len(feature_means)\n",
    "\n",
    "threshold = 0.05\n",
    "above_idx = feature_means > threshold\n",
    "num_above = np.sum(above_idx)\n",
    "frac_above = num_above / vocab_size\n",
    "\n",
    "print(\"%d words out of %d words have above %f instances in each document on average (%0.3f).\" % (num_above, vocab_size, threshold, frac_above))"
   ]
  },
  {
   "cell_type": "code",
   "execution_count": 6,
   "metadata": {},
   "outputs": [],
   "source": [
    "X = X[:, above_idx]\n",
    "\n",
    "X_train, X_test, y_train, y_test = train_test_split(X, y, test_size=400)\n",
    "\n",
    "pickle.dump(X_train, open(\"X_train.pkl\", \"wb\"))\n",
    "pickle.dump(X_test, open(\"X_test.pkl\", \"wb\"))\n",
    "pickle.dump(y_train, open(\"y_train.pkl\", \"wb\"))\n",
    "pickle.dump(y_test, open(\"y_test.pkl\", \"wb\"))"
   ]
  },
  {
   "cell_type": "code",
   "execution_count": 7,
   "metadata": {},
   "outputs": [],
   "source": [
    "X_train, X_test, y_train, y_test = train_test_split(X, y, test_size=400)\n",
    "\n",
    "pickle.dump(X_train, open(\"X_train.pkl\", \"wb\"))\n",
    "pickle.dump(X_test, open(\"X_test.pkl\", \"wb\"))\n",
    "pickle.dump(y_train, open(\"y_train.pkl\", \"wb\"))\n",
    "pickle.dump(y_test, open(\"y_test.pkl\", \"wb\"))"
   ]
  },
  {
   "cell_type": "markdown",
   "metadata": {},
   "source": [
    "Load train and test data."
   ]
  },
  {
   "cell_type": "code",
   "execution_count": 13,
   "metadata": {
    "execution": {
     "iopub.execute_input": "2021-01-11T14:38:02.232171Z",
     "iopub.status.busy": "2021-01-11T14:38:02.231797Z",
     "iopub.status.idle": "2021-01-11T14:38:02.855965Z",
     "shell.execute_reply": "2021-01-11T14:38:02.855580Z"
    }
   },
   "outputs": [
    {
     "name": "stdout",
     "output_type": "stream",
     "text": [
      "Train size: 1600\n",
      "Test size: 400\n",
      "Vocabulary size: 34542\n",
      "\n",
      "X_train shape: (1600, 1282)\n",
      "X_test shape: (400, 1282)\n",
      "y_train shape: (1600,)\n",
      "y_test shape: (400,)\n"
     ]
    }
   ],
   "source": [
    "X_train = pickle.load(open(\"X_train.pkl\", \"rb\"))\n",
    "X_test = pickle.load(open(\"X_test.pkl\", \"rb\"))\n",
    "y_train = pickle.load(open(\"y_train.pkl\", \"rb\"))\n",
    "y_test = pickle.load(open(\"y_test.pkl\", \"rb\"))\n",
    "\n",
    "vocab = pickle.load(open(\"vocab.pkl\", \"rb\"))\n",
    "\n",
    "print(\"Train size:\", len(X_train))\n",
    "print(\"Test size:\", len(X_test))\n",
    "print(\"Vocabulary size:\", len(vocab))\n",
    "print()\n",
    "print(\"X_train shape:\", X_train.shape)\n",
    "print(\"X_test shape:\", X_test.shape)\n",
    "print(\"y_train shape:\", y_train.shape)\n",
    "print(\"y_test shape:\", y_test.shape)"
   ]
  },
  {
   "cell_type": "markdown",
   "metadata": {},
   "source": [
    "Run Multinomial Logistic Regression algorithm."
   ]
  },
  {
   "cell_type": "code",
   "execution_count": 9,
   "metadata": {
    "execution": {
     "iopub.execute_input": "2021-01-11T14:38:02.865171Z",
     "iopub.status.busy": "2021-01-11T14:38:02.863077Z",
     "iopub.status.idle": "2021-01-11T14:38:02.866412Z",
     "shell.execute_reply": "2021-01-11T14:38:02.866744Z"
    }
   },
   "outputs": [],
   "source": [
    "class MultinomialLogisticRegressor():\n",
    "    \n",
    "    def __init__(self, lambda_, batch_size, epochs, lr, verbose):\n",
    "        self.lambda_ = lambda_\n",
    "        self.batch_size = batch_size\n",
    "        self.epochs = epochs\n",
    "        self.lr = lr\n",
    "        self.verbose = verbose\n",
    "    \n",
    "    def fit(self, X, y):\n",
    "        \n",
    "        n, d = X.shape\n",
    "        X_appended = np.concatenate((np.ones((n, 1)), X), axis=1)\n",
    "        if not hasattr(self, 'weights'):\n",
    "            self.weights = np.random.normal(size=d+1)\n",
    "        checkpoint = self.epochs // 10\n",
    "        \n",
    "        for epoch in range(self.epochs):\n",
    "            \n",
    "            order = np.random.permutation(n)\n",
    "            num_batch = n // batch_size\n",
    "            \n",
    "            for i in range(num_batch):\n",
    "                indices = order[i:min(i + batch_size, n)]\n",
    "                X_batch = X_appended[indices]\n",
    "                y_batch = y[indices]\n",
    "                \n",
    "                self.gradient_step(X_batch, y_batch)\n",
    "                \n",
    "            # Compute training loss.\n",
    "            if verbose and (epoch % checkpoint == 0):\n",
    "                logits = np.dot(X_appended, self.weights)\n",
    "                probs = self.sigmoid(logits)\n",
    "                loss = (-(y * np.log(probs) + (1 - y) * np.log(1 - probs)).sum() + 0.5 * self.lambda_ * np.dot(self.weights, self.weights)) / n\n",
    "                \n",
    "                y_pred = (1 + np.sign(logits)) / 2\n",
    "                train_error = np.mean(np.abs(y - y_pred))\n",
    "                print(\"Epoch %d \\t cross entropy loss: %0.4f train error %0.3f\" % (epoch, loss, train_error))\n",
    "            \n",
    "                \n",
    "        self.fitted = True\n",
    "        return self\n",
    "    \n",
    "    def predict(self, X):\n",
    "        \n",
    "        if not hasattr(self, 'fitted'):\n",
    "            raise NotFittedError(\"This MultinomialLogisticRegressor instance is not fitted yet. Call 'fit' with appropriate arguments before using this estimator.\")\n",
    "            \n",
    "        n = len(X)\n",
    "        X_appended = np.concatenate((np.ones((n, 1)), X), axis=1)\n",
    "        \n",
    "        return (1 + np.sign(np.dot(X_appended, self.weights))) / 2\n",
    "    \n",
    "    def gradient_step(self, X, y):\n",
    "        \n",
    "        n = len(X)\n",
    "        probs = self.sigmoid(np.dot(X, self.weights))\n",
    "        grad = (np.dot(X.T, (probs - y)) + self.lambda_ * self.weights) / n\n",
    "        self.weights = self.weights - self.lr * grad\n",
    "        \n",
    "    def sigmoid(self, Z):\n",
    "        Z_clipped = np.clip(Z, -10, 10)\n",
    "        return 1 / (1 + np.exp(-Z_clipped))"
   ]
  },
  {
   "cell_type": "markdown",
   "metadata": {},
   "source": [
    "Hyperparameter search."
   ]
  },
  {
   "cell_type": "code",
   "execution_count": null,
   "metadata": {
    "execution": {
     "iopub.execute_input": "2021-01-11T14:38:02.875391Z",
     "iopub.status.busy": "2021-01-11T14:38:02.875025Z",
     "iopub.status.idle": "2021-01-11T15:46:32.889460Z",
     "shell.execute_reply": "2021-01-11T15:46:32.889060Z"
    }
   },
   "outputs": [],
   "source": [
    "num_cross_val = 100\n",
    "batch_size = 32\n",
    "epochs = 500\n",
    "verbose = False\n",
    "\n",
    "lambdas = np.power(10, np.random.uniform(low=-5, high=0.5, size=num_cross_val))\n",
    "lrs = np.power(10, np.random.uniform(low=-5, high=0.5, size=num_cross_val))\n",
    "\n",
    "X_tr, X_val, y_tr, y_val = train_test_split(X_train, y_train, test_size=0.2)\n",
    "\n",
    "best_acc = 0\n",
    "best_lambda = 0\n",
    "best_lr = 0\n",
    "\n",
    "hyperparams = []\n",
    "\n",
    "print('Iter \\t lambda \\t lr \\t\\t train acc \\t val acc \\t val f1 ')\n",
    "for i in range(num_cross_val):\n",
    "    lambda_ = lambdas[i]\n",
    "    lr = lrs[i]\n",
    "    \n",
    "    mlr = MultinomialLogisticRegressor(lambda_=lambda_, batch_size=batch_size, epochs=epochs, lr=lr, verbose=verbose)\n",
    "    mlr.fit(X_tr, y_tr)\n",
    "    y_pred = mlr.predict(X_val)\n",
    "    \n",
    "    val_acc = accuracy_score(y_val, y_pred)\n",
    "    f1 = f1_score(y_val, y_pred)\n",
    "    \n",
    "    train_acc = accuracy_score(y_tr, mlr.predict(X_tr))\n",
    "        \n",
    "    hyperparams.append(\n",
    "        {\n",
    "            'lambda' : lambda_,\n",
    "            'lr' : lr,\n",
    "            'train_acc' : train_acc,\n",
    "            'val_acc' : val_acc,\n",
    "            'f1' : f1\n",
    "        }\n",
    "    )    \n",
    "    print('%d \\t %0.5f \\t %0.5f \\t %0.2f \\t\\t %0.2f \\t\\t %0.2f' % (i, lambda_, lr, train_acc, val_acc, f1))\n",
    "        \n",
    "pickle.dump(hyperparams, open(\"hyperparams.pkl\", \"wb\"))"
   ]
  },
  {
   "cell_type": "code",
   "execution_count": null,
   "metadata": {
    "execution": {
     "iopub.execute_input": "2021-01-11T15:46:32.892854Z",
     "iopub.status.busy": "2021-01-11T15:46:32.892423Z",
     "iopub.status.idle": "2021-01-11T15:46:32.896608Z",
     "shell.execute_reply": "2021-01-11T15:46:32.896315Z"
    }
   },
   "outputs": [],
   "source": [
    "hyperparams = pd.DataFrame(pickle.load(open(\"hyperparams.pkl\", \"rb\")))"
   ]
  },
  {
   "cell_type": "code",
   "execution_count": null,
   "metadata": {
    "execution": {
     "iopub.execute_input": "2021-01-11T15:46:32.913274Z",
     "iopub.status.busy": "2021-01-11T15:46:32.910475Z",
     "iopub.status.idle": "2021-01-11T15:46:32.924719Z",
     "shell.execute_reply": "2021-01-11T15:46:32.925066Z"
    }
   },
   "outputs": [],
   "source": [
    "hyperparams.sort_values('val_acc', inplace=True, ascending=False)\n",
    "print(hyperparams[0:20])"
   ]
  },
  {
   "cell_type": "markdown",
   "metadata": {},
   "source": [
    "See if the code works on a toy example."
   ]
  },
  {
   "cell_type": "code",
   "execution_count": 12,
   "metadata": {
    "execution": {
     "iopub.execute_input": "2021-01-11T15:46:32.929921Z",
     "iopub.status.busy": "2021-01-11T15:46:32.929571Z",
     "iopub.status.idle": "2021-01-11T15:46:33.145605Z",
     "shell.execute_reply": "2021-01-11T15:46:33.145252Z"
    }
   },
   "outputs": [
    {
     "name": "stdout",
     "output_type": "stream",
     "text": [
      "Epoch 0 \t cross entropy loss: 0.0340 train error 0.012\n",
      "Epoch 10 \t cross entropy loss: 0.0025 train error 0.000\n",
      "Epoch 20 \t cross entropy loss: 0.0011 train error 0.000\n",
      "Epoch 30 \t cross entropy loss: 0.0007 train error 0.000\n",
      "Epoch 40 \t cross entropy loss: 0.0005 train error 0.000\n",
      "Epoch 50 \t cross entropy loss: 0.0004 train error 0.000\n",
      "Epoch 60 \t cross entropy loss: 0.0004 train error 0.000\n",
      "Epoch 70 \t cross entropy loss: 0.0003 train error 0.000\n",
      "Epoch 80 \t cross entropy loss: 0.0003 train error 0.000\n",
      "Epoch 90 \t cross entropy loss: 0.0003 train error 0.000\n",
      "1.0\n"
     ]
    }
   ],
   "source": [
    "n = 1000\n",
    "d = 10\n",
    "\n",
    "mu = 3 * np.ones(d)\n",
    "cov = np.eye(d)\n",
    "\n",
    "X_neg = np.random.multivariate_normal(-mu, cov, size = n // 2)\n",
    "y_neg = np.repeat(0, n // 2)\n",
    "X_pos = np.random.multivariate_normal(mu, cov, size = n // 2)\n",
    "y_pos = np.repeat(1, n // 2)\n",
    "\n",
    "X = np.concatenate((X_neg, X_pos))\n",
    "y = np.concatenate((y_neg, y_pos))\n",
    "\n",
    "X_train, X_test, y_train, y_test = train_test_split(X, y, test_size=0.33)\n",
    "\n",
    "batch_size = 32\n",
    "epochs = 100\n",
    "verbose = True\n",
    "lr = 0.03\n",
    "lambda_ = 0.001\n",
    "\n",
    "mlr = MultinomialLogisticRegressor(lambda_=lambda_, batch_size=batch_size, epochs=epochs, lr=lr, verbose=verbose)\n",
    "mlr.fit(X_train, y_train)\n",
    "y_pred = mlr.predict(X_test)\n",
    "\n",
    "test_acc = accuracy_score(y_test, y_pred)\n",
    "print(test_acc)"
   ]
  },
  {
   "cell_type": "markdown",
   "metadata": {},
   "source": [
    "Run with better hyperparameters."
   ]
  },
  {
   "cell_type": "code",
   "execution_count": 14,
   "metadata": {},
   "outputs": [],
   "source": [
    "X_tr, X_val, y_tr, y_val = train_test_split(X_train, y_train, test_size=0.2)"
   ]
  },
  {
   "cell_type": "code",
   "execution_count": 42,
   "metadata": {
    "execution": {
     "iopub.execute_input": "2021-01-11T15:46:33.149677Z",
     "iopub.status.busy": "2021-01-11T15:46:33.149334Z",
     "iopub.status.idle": "2021-01-11T15:46:33.228690Z",
     "shell.execute_reply": "2021-01-11T15:46:33.228342Z"
    }
   },
   "outputs": [],
   "source": [
    "batch_size = 100\n",
    "epochs = 1000\n",
    "verbose = True\n",
    "lr = 0.01\n",
    "lambda_ = 6\n",
    "\n",
    "mlr = MultinomialLogisticRegressor(lambda_=lambda_, batch_size=batch_size, epochs=epochs, lr=lr, verbose=verbose)\n",
    "\n",
    "# 1. Does the loss monotonically decrease? -> \n",
    "# - yes: increase learning rate until no. Move to 2.\n",
    "# - no: decrease learning rate.\n",
    "# 2. Does the model optimize?\n",
    "# - yes: Move to 3.\n",
    "# - no: Increase epochs.\n",
    "# 3. Is there a lare gap between train acc and val acc?\n",
    "# - yes: increase lambda. Move to 1.\n",
    "# - no: Move to 4.\n",
    "# Is the performance reasonable?\n",
    "# - yes: You're done!\n",
    "# - no: decrease lambda. Move to 1."
   ]
  },
  {
   "cell_type": "code",
   "execution_count": 87,
   "metadata": {},
   "outputs": [
    {
     "name": "stdout",
     "output_type": "stream",
     "text": [
      "Epoch 0 \t cross entropy loss: 0.6932 train error 0.491\n",
      "Epoch 200 \t cross entropy loss: 0.6932 train error 0.495\n",
      "Epoch 400 \t cross entropy loss: 0.6939 train error 0.509\n",
      "Epoch 600 \t cross entropy loss: 0.7027 train error 0.491\n",
      "Epoch 800 \t cross entropy loss: 0.6951 train error 0.491\n",
      "Epoch 1000 \t cross entropy loss: 0.6925 train error 0.481\n",
      "Epoch 1200 \t cross entropy loss: 0.7004 train error 0.491\n",
      "Epoch 1400 \t cross entropy loss: 0.6967 train error 0.505\n",
      "Epoch 1600 \t cross entropy loss: 0.7083 train error 0.507\n",
      "Epoch 1800 \t cross entropy loss: 0.6968 train error 0.508\n",
      "Validation accuracy:  0.528125\n"
     ]
    }
   ],
   "source": [
    "try:\n",
    "    mlr.epochs = 2000\n",
    "    mlr.lambda_ = 10000\n",
    "    mlr.lr = 0.0003\n",
    "    mlr.fit(X_tr, y_tr)\n",
    "    y_pred = mlr.predict(X_val)\n",
    "\n",
    "    val_acc = accuracy_score(y_val, y_pred)\n",
    "    print(\"Validation accuracy: \", val_acc)\n",
    "except KeyboardInterrupt:\n",
    "    print('Graceful Exit')"
   ]
  },
  {
   "cell_type": "code",
   "execution_count": 88,
   "metadata": {},
   "outputs": [
    {
     "name": "stdout",
     "output_type": "stream",
     "text": [
      "Test accuracy:  0.505\n",
      "Test f1:  0.6710963455149502\n"
     ]
    }
   ],
   "source": [
    "y_pred = mlr.predict(X_test)\n",
    "\n",
    "test_acc = accuracy_score(y_test, y_pred)\n",
    "test_f1 = f1_score(y_test, y_pred)\n",
    "\n",
    "print(\"Test accuracy: \", test_acc)\n",
    "print(\"Test f1: \", test_f1)"
   ]
  },
  {
   "cell_type": "code",
   "execution_count": 90,
   "metadata": {
    "execution": {
     "iopub.execute_input": "2021-01-11T15:46:33.230962Z",
     "iopub.status.busy": "2021-01-11T15:46:33.230618Z",
     "iopub.status.idle": "2021-01-11T15:46:33.233062Z",
     "shell.execute_reply": "2021-01-11T15:46:33.233332Z"
    }
   },
   "outputs": [],
   "source": [
    "pickle.dump(mlr, open(\"model.pkl\", \"wb\"))"
   ]
  },
  {
   "cell_type": "code",
   "execution_count": 91,
   "metadata": {
    "execution": {
     "iopub.execute_input": "2021-01-11T15:46:33.235921Z",
     "iopub.status.busy": "2021-01-11T15:46:33.235576Z",
     "iopub.status.idle": "2021-01-11T15:46:33.238688Z",
     "shell.execute_reply": "2021-01-11T15:46:33.239023Z"
    }
   },
   "outputs": [
    {
     "name": "stdout",
     "output_type": "stream",
     "text": [
      "Test accuracy:  0.505\n",
      "Test f1:  0.6710963455149502\n"
     ]
    }
   ],
   "source": [
    "mlr = pickle.load(open(\"model.pkl\", \"rb\"))\n",
    "\n",
    "y_pred = mlr.predict(X_test)\n",
    "\n",
    "test_acc = accuracy_score(y_test, y_pred)\n",
    "test_f1 = f1_score(y_test, y_pred)\n",
    "\n",
    "print(\"Test accuracy: \", test_acc)\n",
    "print(\"Test f1: \", test_f1)"
   ]
  },
  {
   "cell_type": "code",
   "execution_count": null,
   "metadata": {},
   "outputs": [],
   "source": []
  }
 ],
 "metadata": {
  "kernelspec": {
   "display_name": "Python 3",
   "language": "python",
   "name": "python3"
  },
  "language_info": {
   "codemirror_mode": {
    "name": "ipython",
    "version": 3
   },
   "file_extension": ".py",
   "mimetype": "text/x-python",
   "name": "python",
   "nbconvert_exporter": "python",
   "pygments_lexer": "ipython3",
   "version": "3.8.5"
  }
 },
 "nbformat": 4,
 "nbformat_minor": 4
}
