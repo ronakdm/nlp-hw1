{
 "cells": [
  {
   "cell_type": "code",
   "execution_count": 1,
   "metadata": {
    "execution": {
     "iopub.execute_input": "2021-01-11T14:37:59.056674Z",
     "iopub.status.busy": "2021-01-11T14:37:59.056241Z",
     "iopub.status.idle": "2021-01-11T14:38:02.220365Z",
     "shell.execute_reply": "2021-01-11T14:38:02.220770Z"
    }
   },
   "outputs": [],
   "source": [
    "import numpy as np\n",
    "import pandas as pd\n",
    "import pickle\n",
    "import glob\n",
    "from sklearn.model_selection import train_test_split\n",
    "from sklearn.exceptions import NotFittedError\n",
    "from sklearn.metrics import accuracy_score, f1_score"
   ]
  },
  {
   "cell_type": "markdown",
   "metadata": {},
   "source": [
    "Build vocabulary."
   ]
  },
  {
   "cell_type": "code",
   "execution_count": 2,
   "metadata": {
    "execution": {
     "iopub.execute_input": "2021-01-11T14:38:02.223317Z",
     "iopub.status.busy": "2021-01-11T14:38:02.222964Z",
     "iopub.status.idle": "2021-01-11T14:38:02.224598Z",
     "shell.execute_reply": "2021-01-11T14:38:02.224249Z"
    }
   },
   "outputs": [],
   "source": [
    "# neg_files = glob.glob(\"txt_sentoken/neg/*.txt\")\n",
    "# pos_files = glob.glob(\"txt_sentoken/neg/*.txt\")\n",
    "# files = neg_files + pos_files\n",
    "# vocab = {}\n",
    "# index = 0\n",
    "# for file in files:\n",
    "#     with open(file) as f:\n",
    "#         raw_txt = f.read()\n",
    "#     txt_arr = raw_txt.split()\n",
    "#     for token in txt_arr:\n",
    "#         if token not in vocab:\n",
    "#             vocab[token] = index\n",
    "#             index += 1\n",
    "            \n",
    "# pickle.dump(vocab, open(\"vocab.pkl\", \"wb\"))"
   ]
  },
  {
   "cell_type": "markdown",
   "metadata": {},
   "source": [
    "Generate word count feature vectors for each document."
   ]
  },
  {
   "cell_type": "code",
   "execution_count": 3,
   "metadata": {
    "execution": {
     "iopub.execute_input": "2021-01-11T14:38:02.228124Z",
     "iopub.status.busy": "2021-01-11T14:38:02.227760Z",
     "iopub.status.idle": "2021-01-11T14:38:02.228458Z",
     "shell.execute_reply": "2021-01-11T14:38:02.228781Z"
    }
   },
   "outputs": [],
   "source": [
    "# vocab_size = len(vocab)\n",
    "# n = len(files)\n",
    "# n_neg = len(neg_files)\n",
    "# n_pos = len(pos_files)\n",
    "\n",
    "# X = np.zeros((n, vocab_size), dtype=np.int8)\n",
    "# y = np.concatenate((np.repeat(0, n_neg), np.repeat(1, n_pos))).astype(np.int8)\n",
    "\n",
    "# for i, file in enumerate(files):\n",
    "#     with open(file) as f:\n",
    "#         raw_txt = f.read()\n",
    "#     txt_arr = raw_txt.split()\n",
    "#     for token in txt_arr:\n",
    "#         X[i, vocab[token]] += 1\n",
    "        \n",
    "# X_train, X_test, y_train, y_test = train_test_split(X, y, test_size=400)\n",
    "\n",
    "# pickle.dump(X_train, open(\"X_train.pkl\", \"wb\"))\n",
    "# pickle.dump(X_test, open(\"X_test.pkl\", \"wb\"))\n",
    "# pickle.dump(y_train, open(\"y_train.pkl\", \"wb\"))\n",
    "# pickle.dump(y_test, open(\"y_test.pkl\", \"wb\"))"
   ]
  },
  {
   "cell_type": "markdown",
   "metadata": {},
   "source": [
    "Load train and test data."
   ]
  },
  {
   "cell_type": "code",
   "execution_count": 4,
   "metadata": {
    "execution": {
     "iopub.execute_input": "2021-01-11T14:38:02.232171Z",
     "iopub.status.busy": "2021-01-11T14:38:02.231797Z",
     "iopub.status.idle": "2021-01-11T14:38:02.855965Z",
     "shell.execute_reply": "2021-01-11T14:38:02.855580Z"
    }
   },
   "outputs": [
    {
     "name": "stdout",
     "output_type": "stream",
     "text": [
      "Train size: 1600\n",
      "Test size: 400\n",
      "Vocabulary size: 34542\n",
      "\n",
      "X_train shape: (1600, 34542)\n",
      "X_test shape: (400, 34542)\n",
      "y_train shape: (1600,)\n",
      "y_test shape: (400,)\n"
     ]
    }
   ],
   "source": [
    "X_train = pickle.load(open(\"X_train.pkl\", \"rb\"))\n",
    "X_test = pickle.load(open(\"X_test.pkl\", \"rb\"))\n",
    "y_train = pickle.load(open(\"y_train.pkl\", \"rb\"))\n",
    "y_test = pickle.load(open(\"y_test.pkl\", \"rb\"))\n",
    "\n",
    "vocab = pickle.load(open(\"vocab.pkl\", \"rb\"))\n",
    "\n",
    "print(\"Train size:\", len(X_train))\n",
    "print(\"Test size:\", len(X_test))\n",
    "print(\"Vocabulary size:\", len(vocab))\n",
    "print()\n",
    "print(\"X_train shape:\", X_train.shape)\n",
    "print(\"X_test shape:\", X_test.shape)\n",
    "print(\"y_train shape:\", y_train.shape)\n",
    "print(\"y_test shape:\", y_test.shape)"
   ]
  },
  {
   "cell_type": "markdown",
   "metadata": {},
   "source": [
    "Run Multinomial Logistic Regression algorithm."
   ]
  },
  {
   "cell_type": "code",
   "execution_count": 5,
   "metadata": {
    "execution": {
     "iopub.execute_input": "2021-01-11T14:38:02.865171Z",
     "iopub.status.busy": "2021-01-11T14:38:02.863077Z",
     "iopub.status.idle": "2021-01-11T14:38:02.866412Z",
     "shell.execute_reply": "2021-01-11T14:38:02.866744Z"
    }
   },
   "outputs": [],
   "source": [
    "class MultinomialLogisticRegressor():\n",
    "    \n",
    "    def __init__(self, lambda_, batch_size, epochs, lr, verbose):\n",
    "        self.lambda_ = lambda_\n",
    "        self.batch_size = batch_size\n",
    "        self.epochs = epochs\n",
    "        self.lr = lr\n",
    "        self.verbose = verbose\n",
    "    \n",
    "    def fit(self, X, y):\n",
    "        \n",
    "        n, d = X.shape\n",
    "        X_appended = np.concatenate((np.ones((n, 1)), X), axis=1)\n",
    "        self.weights = np.random.normal(size=d+1)\n",
    "        checkpoint = epochs // 10\n",
    "        \n",
    "        for epoch in range(epochs):\n",
    "            \n",
    "            order = np.random.permutation(n)\n",
    "            num_batch = n // batch_size\n",
    "            \n",
    "            for i in range(num_batch):\n",
    "                indices = order[i:min(i + batch_size, n)]\n",
    "                X_batch = X_appended[indices]\n",
    "                y_batch = y[indices]\n",
    "                \n",
    "                self.gradient_step(X_batch, y_batch)\n",
    "                \n",
    "            # Compute training loss.\n",
    "            if verbose and (epoch % checkpoint == 0):\n",
    "                logits = np.dot(X_appended, self.weights)\n",
    "                probs = self.sigmoid(logits)\n",
    "                loss = -(y * np.log(probs) + (1 - y) * np.log(1 - probs)).sum() / n + 0.5 * self.lambda_ * np.dot(self.weights, self.weights)\n",
    "                \n",
    "                y_pred = (1 + np.sign(logits)) / 2\n",
    "                train_error = np.mean(np.abs(y - y_pred))\n",
    "                print(\"Epoch %d \\t cross entropy loss: %0.4f train error %0.3f\" % (epoch, loss, train_error))\n",
    "            \n",
    "                \n",
    "        self.fitted = True\n",
    "        return self\n",
    "    \n",
    "    def predict(self, X):\n",
    "        \n",
    "        if not hasattr(self, 'fitted'):\n",
    "            raise NotFittedError(\"This MultinomialLogisticRegressor instance is not fitted yet. Call 'fit' with appropriate arguments before using this estimator.\")\n",
    "            \n",
    "        n = len(X)\n",
    "        X_appended = np.concatenate((np.ones((n, 1)), X), axis=1)\n",
    "        \n",
    "        return (1 + np.sign(np.dot(X_appended, self.weights))) / 2\n",
    "    \n",
    "    def gradient_step(self, X, y):\n",
    "        \n",
    "        n = len(X)\n",
    "        probs = self.sigmoid(np.dot(X, self.weights))\n",
    "        grad = (np.dot(X.T, (probs - y)) + self.lambda_ * self.weights) / n\n",
    "        self.weights = self.weights - self.lr * grad\n",
    "        \n",
    "    def sigmoid(self, Z):\n",
    "        Z_clipped = np.clip(Z, -10, 10)\n",
    "        return 1 / (1 + np.exp(-Z_clipped))"
   ]
  },
  {
   "cell_type": "markdown",
   "metadata": {},
   "source": [
    "Hyperparameter search."
   ]
  },
  {
   "cell_type": "code",
   "execution_count": 6,
   "metadata": {
    "execution": {
     "iopub.execute_input": "2021-01-11T14:38:02.875391Z",
     "iopub.status.busy": "2021-01-11T14:38:02.875025Z",
     "iopub.status.idle": "2021-01-11T15:46:32.889460Z",
     "shell.execute_reply": "2021-01-11T15:46:32.889060Z"
    }
   },
   "outputs": [
    {
     "name": "stdout",
     "output_type": "stream",
     "text": [
      "Iter \t lambda \t lr \t\t train acc \t val acc \t val f1 \n",
      "0 \t 0.18960 \t 0.01412 \t 0.64 \t\t 0.25 \t\t 0.37\n",
      "1 \t 0.08555 \t 0.00412 \t 0.61 \t\t 0.29 \t\t 0.27\n",
      "2 \t 0.00011 \t 0.46173 \t 0.67 \t\t 0.21 \t\t 0.30\n",
      "3 \t 0.00868 \t 0.00136 \t 0.54 \t\t 0.42 \t\t 0.43\n",
      "4 \t 0.00030 \t 0.00002 \t 0.52 \t\t 0.48 \t\t 0.47\n",
      "5 \t 0.00021 \t 0.00002 \t 0.52 \t\t 0.42 \t\t 0.45\n",
      "6 \t 0.11458 \t 0.31950 \t 0.55 \t\t 0.41 \t\t 0.55\n",
      "7 \t 0.43021 \t 0.04702 \t 0.54 \t\t 0.41 \t\t 0.19\n",
      "8 \t 0.00057 \t 0.00020 \t 0.51 \t\t 0.48 \t\t 0.45\n",
      "9 \t 0.01471 \t 0.02499 \t 0.60 \t\t 0.33 \t\t 0.09\n",
      "10 \t 0.19112 \t 1.52390 \t 0.53 \t\t 0.46 \t\t 0.63\n",
      "11 \t 0.00012 \t 0.00455 \t 0.61 \t\t 0.29 \t\t 0.23\n",
      "12 \t 0.00002 \t 0.00971 \t 0.58 \t\t 0.37 \t\t 0.51\n",
      "13 \t 2.00787 \t 0.00004 \t 0.50 \t\t 0.46 \t\t 0.44\n",
      "14 \t 0.00004 \t 0.20228 \t 0.64 \t\t 0.23 \t\t 0.07\n",
      "15 \t 0.03082 \t 0.00832 \t 0.65 \t\t 0.23 \t\t 0.29\n",
      "16 \t 0.00020 \t 0.00031 \t 0.51 \t\t 0.45 \t\t 0.46\n",
      "17 \t 0.00428 \t 0.53488 \t 0.48 \t\t 0.54 \t\t 0.00\n",
      "18 \t 0.00086 \t 0.00004 \t 0.50 \t\t 0.49 \t\t 0.45\n",
      "19 \t 0.00007 \t 0.10718 \t 0.65 \t\t 0.22 \t\t 0.33\n",
      "20 \t 0.00215 \t 0.00015 \t 0.49 \t\t 0.49 \t\t 0.42\n",
      "21 \t 0.00012 \t 0.00022 \t 0.52 \t\t 0.50 \t\t 0.49\n",
      "22 \t 0.20623 \t 0.00001 \t 0.49 \t\t 0.52 \t\t 0.53\n",
      "23 \t 0.00001 \t 0.00133 \t 0.54 \t\t 0.46 \t\t 0.45\n",
      "24 \t 0.00003 \t 0.00002 \t 0.51 \t\t 0.51 \t\t 0.49\n",
      "25 \t 0.00002 \t 0.38864 \t 0.67 \t\t 0.21 \t\t 0.13\n",
      "26 \t 0.00504 \t 0.22155 \t 0.55 \t\t 0.40 \t\t 0.57\n",
      "27 \t 0.00002 \t 0.00060 \t 0.52 \t\t 0.46 \t\t 0.46\n",
      "28 \t 0.01237 \t 0.00050 \t 0.51 \t\t 0.46 \t\t 0.47\n",
      "29 \t 0.00046 \t 0.00002 \t 0.49 \t\t 0.51 \t\t 0.50\n",
      "30 \t 0.15714 \t 0.62793 \t 0.53 \t\t 0.44 \t\t 0.60\n",
      "31 \t 0.00012 \t 0.00078 \t 0.53 \t\t 0.46 \t\t 0.40\n",
      "32 \t 0.00004 \t 0.03975 \t 0.67 \t\t 0.20 \t\t 0.21\n",
      "33 \t 0.35554 \t 0.00037 \t 0.53 \t\t 0.48 \t\t 0.52\n",
      "34 \t 0.00116 \t 0.00010 \t 0.51 \t\t 0.52 \t\t 0.53\n",
      "35 \t 0.73986 \t 0.00041 \t 0.51 \t\t 0.47 \t\t 0.44\n",
      "36 \t 0.04509 \t 0.18306 \t 0.54 \t\t 0.44 \t\t 0.60\n",
      "37 \t 0.00006 \t 0.00012 \t 0.49 \t\t 0.52 \t\t 0.46\n",
      "38 \t 0.00003 \t 0.00122 \t 0.52 \t\t 0.47 \t\t 0.35\n",
      "39 \t 0.00029 \t 0.75009 \t 0.66 \t\t 0.20 \t\t 0.10\n",
      "40 \t 0.00148 \t 0.17319 \t 0.67 \t\t 0.20 \t\t 0.20\n",
      "41 \t 0.00007 \t 0.01237 \t 0.65 \t\t 0.25 \t\t 0.30\n",
      "42 \t 0.03198 \t 0.02235 \t 0.67 \t\t 0.23 \t\t 0.24\n",
      "43 \t 0.00002 \t 2.16113 \t 0.64 \t\t 0.25 \t\t 0.04\n",
      "44 \t 0.01032 \t 0.23317 \t 0.61 \t\t 0.32 \t\t 0.09\n",
      "45 \t 0.02770 \t 0.00006 \t 0.48 \t\t 0.54 \t\t 0.49\n",
      "46 \t 0.02224 \t 0.01672 \t 0.66 \t\t 0.22 \t\t 0.31\n",
      "47 \t 0.04466 \t 0.00002 \t 0.50 \t\t 0.51 \t\t 0.52\n",
      "48 \t 0.00005 \t 0.00004 \t 0.51 \t\t 0.50 \t\t 0.52\n",
      "49 \t 0.00002 \t 0.00008 \t 0.51 \t\t 0.53 \t\t 0.50\n",
      "50 \t 0.43929 \t 1.87295 \t 0.52 \t\t 0.47 \t\t 0.58\n",
      "51 \t 0.00005 \t 0.00173 \t 0.55 \t\t 0.40 \t\t 0.40\n",
      "52 \t 0.04082 \t 0.00008 \t 0.52 \t\t 0.47 \t\t 0.49\n",
      "53 \t 0.00015 \t 0.56929 \t 0.65 \t\t 0.24 \t\t 0.08\n",
      "54 \t 0.00230 \t 0.00003 \t 0.50 \t\t 0.51 \t\t 0.50\n",
      "55 \t 0.00006 \t 2.44874 \t 0.54 \t\t 0.42 \t\t 0.01\n",
      "56 \t 1.61497 \t 0.02275 \t 0.48 \t\t 0.54 \t\t 0.05\n",
      "57 \t 0.00001 \t 0.00231 \t 0.57 \t\t 0.38 \t\t 0.39\n",
      "58 \t 0.00230 \t 0.00264 \t 0.59 \t\t 0.33 \t\t 0.30\n",
      "59 \t 0.40415 \t 0.00014 \t 0.52 \t\t 0.49 \t\t 0.48\n",
      "60 \t 0.02086 \t 0.17409 \t 0.58 \t\t 0.36 \t\t 0.07\n",
      "61 \t 0.11845 \t 1.91907 \t 0.50 \t\t 0.47 \t\t 0.15\n",
      "62 \t 0.00045 \t 0.01157 \t 0.66 \t\t 0.24 \t\t 0.25\n",
      "63 \t 0.00112 \t 0.00004 \t 0.49 \t\t 0.50 \t\t 0.51\n",
      "64 \t 0.00332 \t 0.48287 \t 0.55 \t\t 0.43 \t\t 0.60\n",
      "65 \t 0.00004 \t 1.02983 \t 0.61 \t\t 0.31 \t\t 0.46\n",
      "66 \t 0.01317 \t 0.02682 \t 0.66 \t\t 0.25 \t\t 0.32\n",
      "67 \t 1.20373 \t 0.30075 \t 0.47 \t\t 0.54 \t\t 0.00\n",
      "68 \t 1.90664 \t 0.00092 \t 0.55 \t\t 0.38 \t\t 0.40\n",
      "69 \t 0.00705 \t 0.00196 \t 0.55 \t\t 0.41 \t\t 0.45\n",
      "70 \t 0.09608 \t 1.16474 \t 0.51 \t\t 0.45 \t\t 0.30\n",
      "71 \t 0.00016 \t 0.10578 \t 0.66 \t\t 0.23 \t\t 0.33\n",
      "72 \t 0.02162 \t 0.01605 \t 0.65 \t\t 0.25 \t\t 0.34\n",
      "73 \t 0.19035 \t 0.09837 \t 0.58 \t\t 0.34 \t\t 0.43\n",
      "74 \t 1.78510 \t 1.57145 \t 0.47 \t\t 0.54 \t\t 0.00\n",
      "75 \t 0.01589 \t 0.05213 \t 0.65 \t\t 0.23 \t\t 0.23\n",
      "76 \t 0.33026 \t 0.05420 \t 0.47 \t\t 0.54 \t\t 0.00\n",
      "77 \t 2.42563 \t 0.00007 \t 0.50 \t\t 0.47 \t\t 0.47\n",
      "78 \t 0.00002 \t 0.01751 \t 0.62 \t\t 0.33 \t\t 0.14\n",
      "79 \t 0.04237 \t 0.00066 \t 0.54 \t\t 0.42 \t\t 0.45\n",
      "80 \t 3.11510 \t 0.01463 \t 0.54 \t\t 0.41 \t\t 0.55\n",
      "81 \t 0.21927 \t 0.23540 \t 0.47 \t\t 0.54 \t\t 0.00\n",
      "82 \t 0.00012 \t 0.00037 \t 0.51 \t\t 0.46 \t\t 0.41\n",
      "83 \t 0.00002 \t 0.00681 \t 0.62 \t\t 0.26 \t\t 0.22\n",
      "84 \t 0.01736 \t 0.01949 \t 0.67 \t\t 0.19 \t\t 0.18\n",
      "85 \t 0.28784 \t 0.16302 \t 0.48 \t\t 0.54 \t\t 0.00\n",
      "86 \t 0.01895 \t 0.00003 \t 0.51 \t\t 0.47 \t\t 0.44\n",
      "87 \t 0.60515 \t 2.89880 \t 0.53 \t\t 0.46 \t\t 0.63\n",
      "88 \t 0.00017 \t 0.00001 \t 0.49 \t\t 0.51 \t\t 0.52\n",
      "89 \t 0.15665 \t 2.86040 \t 0.48 \t\t 0.55 \t\t 0.04\n",
      "90 \t 0.04907 \t 1.51527 \t 0.49 \t\t 0.52 \t\t 0.07\n",
      "91 \t 2.94877 \t 0.00215 \t 0.56 \t\t 0.41 \t\t 0.58\n",
      "92 \t 0.00088 \t 0.00013 \t 0.50 \t\t 0.49 \t\t 0.50\n",
      "93 \t 0.00010 \t 0.00073 \t 0.53 \t\t 0.43 \t\t 0.46\n",
      "94 \t 0.00002 \t 0.03163 \t 0.67 \t\t 0.20 \t\t 0.25\n",
      "95 \t 0.00077 \t 0.14178 \t 0.66 \t\t 0.25 \t\t 0.11\n",
      "96 \t 0.89622 \t 0.72893 \t 0.53 \t\t 0.46 \t\t 0.63\n",
      "97 \t 0.00132 \t 0.19308 \t 0.67 \t\t 0.19 \t\t 0.20\n",
      "98 \t 0.00027 \t 0.14272 \t 0.65 \t\t 0.25 \t\t 0.38\n",
      "99 \t 0.00210 \t 0.04530 \t 0.67 \t\t 0.18 \t\t 0.17\n"
     ]
    }
   ],
   "source": [
    "num_cross_val = 100\n",
    "batch_size = 32\n",
    "epochs = 500\n",
    "verbose = False\n",
    "\n",
    "lambdas = np.power(10, np.random.uniform(low=-5, high=0.5, size=num_cross_val))\n",
    "lrs = np.power(10, np.random.uniform(low=-5, high=0.5, size=num_cross_val))\n",
    "\n",
    "X_tr, X_val, y_tr, y_val = train_test_split(X_train, y_train, test_size=0.2)\n",
    "\n",
    "best_acc = 0\n",
    "best_lambda = 0\n",
    "best_lr = 0\n",
    "\n",
    "hyperparams = []\n",
    "\n",
    "print('Iter \\t lambda \\t lr \\t\\t train acc \\t val acc \\t val f1 ')\n",
    "for i in range(num_cross_val):\n",
    "    lambda_ = lambdas[i]\n",
    "    lr = lrs[i]\n",
    "    \n",
    "    mlr = MultinomialLogisticRegressor(lambda_=lambda_, batch_size=batch_size, epochs=epochs, lr=lr, verbose=verbose)\n",
    "    mlr.fit(X_tr, y_tr)\n",
    "    y_pred = mlr.predict(X_val)\n",
    "    \n",
    "    val_acc = accuracy_score(y_val, y_pred)\n",
    "    f1 = f1_score(y_val, y_pred)\n",
    "    \n",
    "    train_acc = accuracy_score(y_tr, mlr.predict(X_tr))\n",
    "        \n",
    "    hyperparams.append(\n",
    "        {\n",
    "            'lambda' : lambda_,\n",
    "            'lr' : lr,\n",
    "            'train_acc' : train_acc,\n",
    "            'val_acc' : val_acc,\n",
    "            'f1' : f1\n",
    "        }\n",
    "    )    \n",
    "    print('%d \\t %0.5f \\t %0.5f \\t %0.2f \\t\\t %0.2f \\t\\t %0.2f' % (i, lambda_, lr, train_acc, val_acc, f1))\n",
    "        \n",
    "pickle.dump(hyperparams, open(\"hyperparams.pkl\", \"wb\"))"
   ]
  },
  {
   "cell_type": "code",
   "execution_count": 7,
   "metadata": {
    "execution": {
     "iopub.execute_input": "2021-01-11T15:46:32.892854Z",
     "iopub.status.busy": "2021-01-11T15:46:32.892423Z",
     "iopub.status.idle": "2021-01-11T15:46:32.896608Z",
     "shell.execute_reply": "2021-01-11T15:46:32.896315Z"
    }
   },
   "outputs": [],
   "source": [
    "hyperparams = pd.DataFrame(pickle.load(open(\"hyperparams.pkl\", \"rb\")))"
   ]
  },
  {
   "cell_type": "code",
   "execution_count": 8,
   "metadata": {
    "execution": {
     "iopub.execute_input": "2021-01-11T15:46:32.913274Z",
     "iopub.status.busy": "2021-01-11T15:46:32.910475Z",
     "iopub.status.idle": "2021-01-11T15:46:32.924719Z",
     "shell.execute_reply": "2021-01-11T15:46:32.925066Z"
    }
   },
   "outputs": [
    {
     "data": {
      "text/html": [
       "<div>\n",
       "<style scoped>\n",
       "    .dataframe tbody tr th:only-of-type {\n",
       "        vertical-align: middle;\n",
       "    }\n",
       "\n",
       "    .dataframe tbody tr th {\n",
       "        vertical-align: top;\n",
       "    }\n",
       "\n",
       "    .dataframe thead th {\n",
       "        text-align: right;\n",
       "    }\n",
       "</style>\n",
       "<table border=\"1\" class=\"dataframe\">\n",
       "  <thead>\n",
       "    <tr style=\"text-align: right;\">\n",
       "      <th></th>\n",
       "      <th>lambda</th>\n",
       "      <th>lr</th>\n",
       "      <th>train_acc</th>\n",
       "      <th>val_acc</th>\n",
       "      <th>f1</th>\n",
       "    </tr>\n",
       "  </thead>\n",
       "  <tbody>\n",
       "    <tr>\n",
       "      <th>89</th>\n",
       "      <td>0.156648</td>\n",
       "      <td>2.860400</td>\n",
       "      <td>0.475781</td>\n",
       "      <td>0.55000</td>\n",
       "      <td>0.040000</td>\n",
       "    </tr>\n",
       "    <tr>\n",
       "      <th>76</th>\n",
       "      <td>0.330259</td>\n",
       "      <td>0.054199</td>\n",
       "      <td>0.473438</td>\n",
       "      <td>0.54375</td>\n",
       "      <td>0.000000</td>\n",
       "    </tr>\n",
       "    <tr>\n",
       "      <th>56</th>\n",
       "      <td>1.614966</td>\n",
       "      <td>0.022752</td>\n",
       "      <td>0.477344</td>\n",
       "      <td>0.54375</td>\n",
       "      <td>0.051948</td>\n",
       "    </tr>\n",
       "    <tr>\n",
       "      <th>74</th>\n",
       "      <td>1.785102</td>\n",
       "      <td>1.571451</td>\n",
       "      <td>0.474219</td>\n",
       "      <td>0.54375</td>\n",
       "      <td>0.000000</td>\n",
       "    </tr>\n",
       "    <tr>\n",
       "      <th>81</th>\n",
       "      <td>0.219275</td>\n",
       "      <td>0.235400</td>\n",
       "      <td>0.473438</td>\n",
       "      <td>0.54375</td>\n",
       "      <td>0.000000</td>\n",
       "    </tr>\n",
       "  </tbody>\n",
       "</table>\n",
       "</div>"
      ],
      "text/plain": [
       "      lambda        lr  train_acc  val_acc        f1\n",
       "89  0.156648  2.860400   0.475781  0.55000  0.040000\n",
       "76  0.330259  0.054199   0.473438  0.54375  0.000000\n",
       "56  1.614966  0.022752   0.477344  0.54375  0.051948\n",
       "74  1.785102  1.571451   0.474219  0.54375  0.000000\n",
       "81  0.219275  0.235400   0.473438  0.54375  0.000000"
      ]
     },
     "execution_count": 1,
     "metadata": {},
     "output_type": "execute_result"
    }
   ],
   "source": [
    "hyperparams.sort_values('val_acc', inplace=True, ascending=False)\n",
    "hyperparams.head()"
   ]
  },
  {
   "cell_type": "markdown",
   "metadata": {},
   "source": [
    "See if the code works on a toy example."
   ]
  },
  {
   "cell_type": "code",
   "execution_count": 9,
   "metadata": {
    "execution": {
     "iopub.execute_input": "2021-01-11T15:46:32.929921Z",
     "iopub.status.busy": "2021-01-11T15:46:32.929571Z",
     "iopub.status.idle": "2021-01-11T15:46:33.145605Z",
     "shell.execute_reply": "2021-01-11T15:46:33.145252Z"
    }
   },
   "outputs": [
    {
     "name": "stdout",
     "output_type": "stream",
     "text": [
      "Epoch 0 \t cross entropy loss: 0.0385 train error 0.010\n",
      "Epoch 10 \t cross entropy loss: 0.0377 train error 0.010\n",
      "Epoch 20 \t cross entropy loss: 0.0370 train error 0.010\n",
      "Epoch 30 \t cross entropy loss: 0.0366 train error 0.010\n",
      "Epoch 40 \t cross entropy loss: 0.0361 train error 0.010\n",
      "Epoch 50 \t cross entropy loss: 0.0356 train error 0.010\n",
      "Epoch 60 \t cross entropy loss: 0.0351 train error 0.009\n",
      "Epoch 70 \t cross entropy loss: 0.0346 train error 0.009\n",
      "Epoch 80 \t cross entropy loss: 0.0344 train error 0.009\n",
      "Epoch 90 \t cross entropy loss: 0.0340 train error 0.009\n",
      "0.9848484848484849\n"
     ]
    }
   ],
   "source": [
    "n = 1000\n",
    "d = 10\n",
    "\n",
    "mu = np.ones(d)\n",
    "cov = np.eye(d)\n",
    "\n",
    "X_neg = np.random.multivariate_normal(-mu, cov, size = n // 2)\n",
    "y_neg = np.repeat(0, n // 2)\n",
    "X_pos = np.random.multivariate_normal(mu, cov, size = n // 2)\n",
    "y_pos = np.repeat(1, n // 2)\n",
    "\n",
    "X = np.concatenate((X_neg, X_pos))\n",
    "y = np.concatenate((y_neg, y_pos))\n",
    "\n",
    "X_train, X_test, y_train, y_test = train_test_split(X, y, test_size=0.33)\n",
    "\n",
    "batch_size = 32\n",
    "epochs = 100\n",
    "verbose = True\n",
    "lr = 0.001\n",
    "lambda_ = 0.001\n",
    "\n",
    "mlr = MultinomialLogisticRegressor(lambda_=lambda_, batch_size=batch_size, epochs=epochs, lr=lr, verbose=verbose)\n",
    "mlr.fit(X_train, y_train)\n",
    "y_pred = mlr.predict(X_test)\n",
    "\n",
    "test_acc = accuracy_score(y_test, y_pred)\n",
    "print(test_acc)"
   ]
  },
  {
   "cell_type": "markdown",
   "metadata": {},
   "source": [
    "Run with better hyperparameters."
   ]
  },
  {
   "cell_type": "code",
   "execution_count": 10,
   "metadata": {
    "execution": {
     "iopub.execute_input": "2021-01-11T15:46:33.149677Z",
     "iopub.status.busy": "2021-01-11T15:46:33.149334Z",
     "iopub.status.idle": "2021-01-11T15:46:33.228690Z",
     "shell.execute_reply": "2021-01-11T15:46:33.228342Z"
    }
   },
   "outputs": [
    {
     "name": "stdout",
     "output_type": "stream",
     "text": [
      "Epoch 0 \t cross entropy loss: 10.2883 train error 0.129\n",
      "Epoch 30 \t cross entropy loss: 9.0160 train error 0.050\n",
      "Epoch 60 \t cross entropy loss: 8.2944 train error 0.034\n",
      "Epoch 90 \t cross entropy loss: 7.6937 train error 0.015\n",
      "Epoch 120 \t cross entropy loss: 7.1690 train error 0.011\n",
      "Epoch 150 \t cross entropy loss: 6.7008 train error 0.009\n",
      "Epoch 180 \t cross entropy loss: 6.2702 train error 0.006\n",
      "Epoch 210 \t cross entropy loss: 5.8818 train error 0.002\n",
      "Epoch 240 \t cross entropy loss: 5.5125 train error 0.002\n",
      "Epoch 270 \t cross entropy loss: 5.1711 train error 0.002\n",
      "Validation accuracy:  1.0\n"
     ]
    }
   ],
   "source": [
    "batch_size = 64\n",
    "epochs = 300\n",
    "verbose = True\n",
    "lr = 0.01\n",
    "lambda_ = 1\n",
    "\n",
    "X_tr, X_val, y_tr, y_val = train_test_split(X_train, y_train, test_size=0.2)\n",
    "\n",
    "try:\n",
    "    mlr = MultinomialLogisticRegressor(lambda_=lambda_, batch_size=batch_size, epochs=epochs, lr=lr, verbose=verbose)\n",
    "    mlr.fit(X_tr, y_tr)\n",
    "    y_pred = mlr.predict(X_val)\n",
    "\n",
    "    val_acc = accuracy_score(y_val, y_pred)\n",
    "    print(\"Validation accuracy: \", val_acc)\n",
    "except KeyboardInterrupt:\n",
    "    print('Graceful Exit')"
   ]
  },
  {
   "cell_type": "code",
   "execution_count": 11,
   "metadata": {
    "execution": {
     "iopub.execute_input": "2021-01-11T15:46:33.230962Z",
     "iopub.status.busy": "2021-01-11T15:46:33.230618Z",
     "iopub.status.idle": "2021-01-11T15:46:33.233062Z",
     "shell.execute_reply": "2021-01-11T15:46:33.233332Z"
    }
   },
   "outputs": [],
   "source": [
    "pickle.dump(mlr, open(\"model.pkl\", \"wb\"))"
   ]
  },
  {
   "cell_type": "code",
   "execution_count": 12,
   "metadata": {
    "execution": {
     "iopub.execute_input": "2021-01-11T15:46:33.235921Z",
     "iopub.status.busy": "2021-01-11T15:46:33.235576Z",
     "iopub.status.idle": "2021-01-11T15:46:33.238688Z",
     "shell.execute_reply": "2021-01-11T15:46:33.239023Z"
    }
   },
   "outputs": [
    {
     "name": "stdout",
     "output_type": "stream",
     "text": [
      "Test accuracy:  0.996969696969697\n",
      "Test f1:  0.9971181556195965\n"
     ]
    }
   ],
   "source": [
    "mlr = pickle.load(open(\"model.pkl\", \"rb\"))\n",
    "\n",
    "y_pred = mlr.predict(X_test)\n",
    "\n",
    "test_acc = accuracy_score(y_test, y_pred)\n",
    "test_f1 = f1_score(y_test, y_pred)\n",
    "\n",
    "print(\"Test accuracy: \", test_acc)\n",
    "print(\"Test f1: \", test_f1)"
   ]
  },
  {
   "cell_type": "code",
   "execution_count": null,
   "metadata": {},
   "outputs": [],
   "source": []
  }
 ],
 "metadata": {
  "kernelspec": {
   "display_name": "Python 3",
   "language": "python",
   "name": "python3"
  },
  "language_info": {
   "codemirror_mode": {
    "name": "ipython",
    "version": 3
   },
   "file_extension": ".py",
   "mimetype": "text/x-python",
   "name": "python",
   "nbconvert_exporter": "python",
   "pygments_lexer": "ipython3",
   "version": "3.8.5"
  }
 },
 "nbformat": 4,
 "nbformat_minor": 4
}
