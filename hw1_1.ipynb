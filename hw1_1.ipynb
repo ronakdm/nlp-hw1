{
 "cells": [
  {
   "cell_type": "code",
   "execution_count": 1,
   "metadata": {
    "execution": {
     "iopub.execute_input": "2021-01-11T14:37:59.056674Z",
     "iopub.status.busy": "2021-01-11T14:37:59.056241Z",
     "iopub.status.idle": "2021-01-11T14:38:02.220365Z",
     "shell.execute_reply": "2021-01-11T14:38:02.220770Z"
    }
   },
   "outputs": [],
   "source": [
    "import numpy as np\n",
    "import pandas as pd\n",
    "import pickle\n",
    "import glob\n",
    "import matplotlib.pyplot as plt\n",
    "\n",
    "from sklearn.model_selection import train_test_split\n",
    "from sklearn.exceptions import NotFittedError\n",
    "from sklearn.metrics import accuracy_score, f1_score"
   ]
  },
  {
   "cell_type": "markdown",
   "metadata": {},
   "source": [
    "Build vocabulary."
   ]
  },
  {
   "cell_type": "code",
   "execution_count": 2,
   "metadata": {
    "execution": {
     "iopub.execute_input": "2021-01-11T14:38:02.223317Z",
     "iopub.status.busy": "2021-01-11T14:38:02.222964Z",
     "iopub.status.idle": "2021-01-11T14:38:02.224598Z",
     "shell.execute_reply": "2021-01-11T14:38:02.224249Z"
    }
   },
   "outputs": [],
   "source": [
    "neg_files = glob.glob(\"txt_sentoken/neg/*.txt\")\n",
    "pos_files = glob.glob(\"txt_sentoken/pos/*.txt\")\n",
    "files = neg_files + pos_files\n",
    "vocab = {}\n",
    "index = 0\n",
    "for file in files:\n",
    "    with open(file) as f:\n",
    "        raw_txt = f.read()\n",
    "    txt_arr = raw_txt.split()\n",
    "    for token in txt_arr:\n",
    "        if token not in vocab:\n",
    "            vocab[token] = index\n",
    "            index += 1\n",
    "            \n",
    "pickle.dump(vocab, open(\"vocab.pkl\", \"wb\"))"
   ]
  },
  {
   "cell_type": "markdown",
   "metadata": {},
   "source": [
    "Generate word count feature vectors for each document."
   ]
  },
  {
   "cell_type": "code",
   "execution_count": 3,
   "metadata": {
    "execution": {
     "iopub.execute_input": "2021-01-11T14:38:02.228124Z",
     "iopub.status.busy": "2021-01-11T14:38:02.227760Z",
     "iopub.status.idle": "2021-01-11T14:38:02.228458Z",
     "shell.execute_reply": "2021-01-11T14:38:02.228781Z"
    }
   },
   "outputs": [],
   "source": [
    "vocab_size = len(vocab)\n",
    "n = len(files)\n",
    "n_neg = len(neg_files)\n",
    "n_pos = len(pos_files)\n",
    "\n",
    "X = np.zeros((n, vocab_size), dtype=np.int8)\n",
    "y = np.concatenate((np.repeat(0, n_neg), np.repeat(1, n_pos))).astype(np.int8)\n",
    "\n",
    "for i, file in enumerate(files):\n",
    "    with open(file) as f:\n",
    "        raw_txt = f.read()\n",
    "    txt_arr = raw_txt.split()\n",
    "    for token in txt_arr:\n",
    "        X[i, vocab[token]] = 1"
   ]
  },
  {
   "cell_type": "code",
   "execution_count": 4,
   "metadata": {},
   "outputs": [
    {
     "name": "stdout",
     "output_type": "stream",
     "text": [
      "50920 words out of 50920 words have above 0.000000 instances in each document on average (1.000).\n"
     ]
    }
   ],
   "source": [
    "feature_means = np.mean(X, axis = 0)\n",
    "vocab_size = len(feature_means)\n",
    "\n",
    "threshold = 0.0\n",
    "above_idx = feature_means > threshold\n",
    "num_above = np.sum(above_idx)\n",
    "frac_above = num_above / vocab_size\n",
    "\n",
    "print(\"%d words out of %d words have above %f instances in each document on average (%0.3f).\" % (num_above, vocab_size, threshold, frac_above))"
   ]
  },
  {
   "cell_type": "code",
   "execution_count": 5,
   "metadata": {},
   "outputs": [],
   "source": [
    "X = X[:, above_idx]\n",
    "\n",
    "X_train, X_test, y_train, y_test = train_test_split(X, y, test_size=400)\n",
    "\n",
    "pickle.dump(X_train, open(\"X_train.pkl\", \"wb\"))\n",
    "pickle.dump(X_test, open(\"X_test.pkl\", \"wb\"))\n",
    "pickle.dump(y_train, open(\"y_train.pkl\", \"wb\"))\n",
    "pickle.dump(y_test, open(\"y_test.pkl\", \"wb\"))"
   ]
  },
  {
   "cell_type": "code",
   "execution_count": 6,
   "metadata": {},
   "outputs": [],
   "source": [
    "X_train, X_test, y_train, y_test = train_test_split(X, y, test_size=400)\n",
    "\n",
    "pickle.dump(X_train, open(\"X_train.pkl\", \"wb\"))\n",
    "pickle.dump(X_test, open(\"X_test.pkl\", \"wb\"))\n",
    "pickle.dump(y_train, open(\"y_train.pkl\", \"wb\"))\n",
    "pickle.dump(y_test, open(\"y_test.pkl\", \"wb\"))"
   ]
  },
  {
   "cell_type": "markdown",
   "metadata": {},
   "source": [
    "Load train and test data."
   ]
  },
  {
   "cell_type": "code",
   "execution_count": 23,
   "metadata": {
    "execution": {
     "iopub.execute_input": "2021-01-11T14:38:02.232171Z",
     "iopub.status.busy": "2021-01-11T14:38:02.231797Z",
     "iopub.status.idle": "2021-01-11T14:38:02.855965Z",
     "shell.execute_reply": "2021-01-11T14:38:02.855580Z"
    }
   },
   "outputs": [
    {
     "name": "stdout",
     "output_type": "stream",
     "text": [
      "Train size: 1600\n",
      "Test size: 400\n",
      "Vocabulary size: 50920\n",
      "\n",
      "X_train shape: (1600, 50920)\n",
      "X_test shape: (400, 50920)\n",
      "y_train shape: (1600,)\n",
      "y_test shape: (400,)\n"
     ]
    }
   ],
   "source": [
    "X_train = pickle.load(open(\"X_train.pkl\", \"rb\"))\n",
    "X_test = pickle.load(open(\"X_test.pkl\", \"rb\"))\n",
    "y_train = pickle.load(open(\"y_train.pkl\", \"rb\"))\n",
    "y_test = pickle.load(open(\"y_test.pkl\", \"rb\"))\n",
    "\n",
    "vocab = pickle.load(open(\"vocab.pkl\", \"rb\"))\n",
    "\n",
    "print(\"Train size:\", len(X_train))\n",
    "print(\"Test size:\", len(X_test))\n",
    "print(\"Vocabulary size:\", len(vocab))\n",
    "print()\n",
    "print(\"X_train shape:\", X_train.shape)\n",
    "print(\"X_test shape:\", X_test.shape)\n",
    "print(\"y_train shape:\", y_train.shape)\n",
    "print(\"y_test shape:\", y_test.shape)"
   ]
  },
  {
   "cell_type": "markdown",
   "metadata": {},
   "source": [
    "Run Multinomial Logistic Regression algorithm."
   ]
  },
  {
   "cell_type": "code",
   "execution_count": 19,
   "metadata": {
    "execution": {
     "iopub.execute_input": "2021-01-11T14:38:02.865171Z",
     "iopub.status.busy": "2021-01-11T14:38:02.863077Z",
     "iopub.status.idle": "2021-01-11T14:38:02.866412Z",
     "shell.execute_reply": "2021-01-11T14:38:02.866744Z"
    }
   },
   "outputs": [],
   "source": [
    "class MultinomialLogisticRegressor():\n",
    "    \n",
    "    def __init__(self, lambda_, batch_size, epochs, lr, verbose):\n",
    "        self.lambda_ = lambda_\n",
    "        self.batch_size = batch_size\n",
    "        self.epochs = epochs\n",
    "        self.lr = lr\n",
    "        self.verbose = verbose\n",
    "    \n",
    "    def fit(self, X, y):\n",
    "        \n",
    "        n, d = X.shape\n",
    "        X_appended = np.concatenate((np.ones((n, 1)), X), axis=1)\n",
    "        if not hasattr(self, 'weights'):\n",
    "            self.weights = np.random.normal(size=d+1)\n",
    "        checkpoint = self.epochs // 10\n",
    "        \n",
    "        losses = []\n",
    "        for epoch in range(self.epochs):\n",
    "            \n",
    "            order = np.random.permutation(n)\n",
    "            num_batch = n // self.batch_size\n",
    "            \n",
    "            for i in range(num_batch):\n",
    "                indices = order[i:min(i + batch_size, n)]\n",
    "                X_batch = X_appended[indices]\n",
    "                y_batch = y[indices]\n",
    "                \n",
    "                self.gradient_step(X_batch, y_batch)\n",
    "                \n",
    "            # Compute training loss.\n",
    "            if verbose and (epoch % checkpoint == 0):\n",
    "                logits = np.dot(X_appended, self.weights)\n",
    "                probs = self.sigmoid(logits)\n",
    "                loss = (-(y * np.log(probs) + (1 - y) * np.log(1 - probs)).sum() + self.lambda_ * np.sum(np.abs(self.weights))) / n\n",
    "                \n",
    "                y_pred = (1 + np.sign(logits)) / 2\n",
    "                train_error = np.mean(np.abs(y - y_pred))\n",
    "                print(\"Epoch %d \\t cross entropy loss: %0.4f train error %0.3f\" % (epoch, loss, train_error))\n",
    "                \n",
    "                losses.append(loss)\n",
    "            \n",
    "                \n",
    "        self.fitted = True\n",
    "        return losses\n",
    "    \n",
    "    def predict(self, X):\n",
    "        \n",
    "        if not hasattr(self, 'fitted'):\n",
    "            raise NotFittedError(\"This MultinomialLogisticRegressor instance is not fitted yet. Call 'fit' with appropriate arguments before using this estimator.\")\n",
    "            \n",
    "        n = len(X)\n",
    "        X_appended = np.concatenate((np.ones((n, 1)), X), axis=1)\n",
    "        \n",
    "        return (1 + np.sign(np.dot(X_appended, self.weights))) / 2\n",
    "    \n",
    "    def gradient_step(self, X, y):\n",
    "        \n",
    "        # Use l1 regularization.\n",
    "        \n",
    "        n = len(X)\n",
    "        probs = self.sigmoid(np.dot(X, self.weights))\n",
    "        grad = (np.dot(X.T, (probs - y)) + self.lambda_ * self.weights) / n\n",
    "        self.weights = self.weights - self.lr * grad\n",
    "        \n",
    "    def sigmoid(self, Z):\n",
    "        Z_clipped = np.clip(Z, -10, 10)\n",
    "        return 1 / (1 + np.exp(-Z_clipped))"
   ]
  },
  {
   "cell_type": "markdown",
   "metadata": {},
   "source": [
    "See if the code works on a toy example."
   ]
  },
  {
   "cell_type": "code",
   "execution_count": 33,
   "metadata": {
    "execution": {
     "iopub.execute_input": "2021-01-11T15:46:32.929921Z",
     "iopub.status.busy": "2021-01-11T15:46:32.929571Z",
     "iopub.status.idle": "2021-01-11T15:46:33.145605Z",
     "shell.execute_reply": "2021-01-11T15:46:33.145252Z"
    }
   },
   "outputs": [
    {
     "name": "stdout",
     "output_type": "stream",
     "text": [
      "Epoch 0 \t cross entropy loss: 0.0197 train error 0.001\n",
      "Epoch 10 \t cross entropy loss: 0.0020 train error 0.000\n",
      "Epoch 20 \t cross entropy loss: 0.0010 train error 0.000\n",
      "Epoch 30 \t cross entropy loss: 0.0006 train error 0.000\n",
      "Epoch 40 \t cross entropy loss: 0.0006 train error 0.000\n",
      "Epoch 50 \t cross entropy loss: 0.0005 train error 0.000\n",
      "Epoch 60 \t cross entropy loss: 0.0004 train error 0.000\n",
      "Epoch 70 \t cross entropy loss: 0.0003 train error 0.000\n",
      "Epoch 80 \t cross entropy loss: 0.0003 train error 0.000\n",
      "Epoch 90 \t cross entropy loss: 0.0003 train error 0.000\n",
      "1.0\n"
     ]
    }
   ],
   "source": [
    "n = 1000\n",
    "d = 10\n",
    "\n",
    "mu = 3 * np.ones(d)\n",
    "cov = np.eye(d)\n",
    "\n",
    "X_neg = np.random.multivariate_normal(-mu, cov, size = n // 2)\n",
    "y_neg = np.repeat(0, n // 2)\n",
    "X_pos = np.random.multivariate_normal(mu, cov, size = n // 2)\n",
    "y_pos = np.repeat(1, n // 2)\n",
    "\n",
    "X = np.concatenate((X_neg, X_pos))\n",
    "y = np.concatenate((y_neg, y_pos))\n",
    "\n",
    "X_tr, X_te, y_tr, y_te = train_test_split(X, y, test_size=0.33)\n",
    "\n",
    "batch_size = 32\n",
    "epochs = 100\n",
    "verbose = True\n",
    "lr = 0.03\n",
    "lambda_ = 0.001\n",
    "\n",
    "mlr = MultinomialLogisticRegressor(lambda_=lambda_, batch_size=batch_size, epochs=epochs, lr=lr, verbose=verbose)\n",
    "mlr.fit(X_tr, y_tr)\n",
    "y_pred = mlr.predict(X_te)\n",
    "\n",
    "test_acc = accuracy_score(y_te, y_pred)\n",
    "print(test_acc)"
   ]
  },
  {
   "cell_type": "markdown",
   "metadata": {},
   "source": [
    "Run with better hyperparameters."
   ]
  },
  {
   "cell_type": "code",
   "execution_count": 29,
   "metadata": {
    "execution": {
     "iopub.execute_input": "2021-01-11T15:46:33.149677Z",
     "iopub.status.busy": "2021-01-11T15:46:33.149334Z",
     "iopub.status.idle": "2021-01-11T15:46:33.228690Z",
     "shell.execute_reply": "2021-01-11T15:46:33.228342Z"
    }
   },
   "outputs": [],
   "source": [
    "batch_size = 64\n",
    "epochs = 300\n",
    "verbose = True\n",
    "lr = 0.03\n",
    "lambda_ = 0\n",
    "\n",
    "mlr = MultinomialLogisticRegressor(lambda_=lambda_, batch_size=batch_size, epochs=epochs, lr=lr, verbose=verbose)\n",
    "\n",
    "# 1. Does the loss monotonically decrease? -> \n",
    "# - yes: increase learning rate until no. Move to 2.\n",
    "# - no: decrease learning rate.\n",
    "# 2. Does the model optimize?\n",
    "# - yes: Move to 3.\n",
    "# - no: Increase epochs.\n",
    "# 3. Is there a lare gap between train acc and val acc?\n",
    "# - yes: increase lambda. Move to 1.\n",
    "# - no: Move to 4.\n",
    "# Is the performance reasonable?\n",
    "# - yes: You're done!\n",
    "# - no: decrease lambda. Move to 1."
   ]
  },
  {
   "cell_type": "code",
   "execution_count": 30,
   "metadata": {},
   "outputs": [
    {
     "name": "stdout",
     "output_type": "stream",
     "text": [
      "Epoch 0 \t cross entropy loss: 3.5150 train error 0.464\n",
      "Epoch 30 \t cross entropy loss: 2.4097 train error 0.349\n",
      "Epoch 60 \t cross entropy loss: 1.6803 train error 0.274\n",
      "Epoch 90 \t cross entropy loss: 1.1966 train error 0.191\n",
      "Epoch 120 \t cross entropy loss: 0.9178 train error 0.167\n",
      "Epoch 150 \t cross entropy loss: 0.6522 train error 0.117\n",
      "Epoch 180 \t cross entropy loss: 0.4932 train error 0.097\n",
      "Epoch 210 \t cross entropy loss: 0.3963 train error 0.076\n",
      "Epoch 240 \t cross entropy loss: 0.2947 train error 0.054\n",
      "Epoch 270 \t cross entropy loss: 0.2195 train error 0.041\n"
     ]
    },
    {
     "data": {
      "image/png": "[encoded data removed]",
      "text/plain": [
       "<Figure size 432x288 with 1 Axes>"
      ]
     },
     "metadata": {
      "needs_background": "light"
     },
     "output_type": "display_data"
    }
   ],
   "source": [
    "try:\n",
    "    losses = mlr.fit(X_train, y_train)\n",
    "    plt.plot(np.arange(len(losses)), losses)\n",
    "except KeyboardInterrupt:\n",
    "    print('Graceful Exit')"
   ]
  },
  {
   "cell_type": "code",
   "execution_count": 31,
   "metadata": {},
   "outputs": [
    {
     "name": "stdout",
     "output_type": "stream",
     "text": [
      "Test error:  0.315\n"
     ]
    }
   ],
   "source": [
    "y_pred = mlr.predict(X_test)\n",
    "\n",
    "test_error = np.mean(np.abs(y_test - y_pred))\n",
    "\n",
    "print(\"Test error: \", test_error)"
   ]
  },
  {
   "cell_type": "code",
   "execution_count": 32,
   "metadata": {
    "execution": {
     "iopub.execute_input": "2021-01-11T15:46:33.230962Z",
     "iopub.status.busy": "2021-01-11T15:46:33.230618Z",
     "iopub.status.idle": "2021-01-11T15:46:33.233062Z",
     "shell.execute_reply": "2021-01-11T15:46:33.233332Z"
    }
   },
   "outputs": [],
   "source": [
    "pickle.dump(mlr, open(\"model.pkl\", \"wb\"))"
   ]
  },
  {
   "cell_type": "code",
   "execution_count": null,
   "metadata": {},
   "outputs": [],
   "source": []
  }
 ],
 "metadata": {
  "kernelspec": {
   "display_name": "Python 3",
   "language": "python",
   "name": "python3"
  },
  "language_info": {
   "codemirror_mode": {
    "name": "ipython",
    "version": 3
   },
   "file_extension": ".py",
   "mimetype": "text/x-python",
   "name": "python",
   "nbconvert_exporter": "python",
   "pygments_lexer": "ipython3",
   "version": "3.8.5"
  }
 },
 "nbformat": 4,
 "nbformat_minor": 4
}
